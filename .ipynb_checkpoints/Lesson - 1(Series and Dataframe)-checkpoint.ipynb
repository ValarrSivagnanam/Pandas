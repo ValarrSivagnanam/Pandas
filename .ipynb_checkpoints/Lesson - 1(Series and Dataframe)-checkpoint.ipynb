{
 "cells": [
  {
   "cell_type": "markdown",
   "id": "76a72412-775b-4943-9d69-30c42e3917ba",
   "metadata": {},
   "source": [
    "1. Install pandas"
   ]
  },
  {
   "cell_type": "code",
   "execution_count": 1,
   "id": "b01d7a6d-a8a3-41f2-abe1-26febef4cf4e",
   "metadata": {},
   "outputs": [
    {
     "name": "stdout",
     "output_type": "stream",
     "text": [
      "Requirement already satisfied: pandas in c:\\users\\valarr\\appdata\\local\\programs\\python\\python311\\lib\\site-packages (2.3.1)\n",
      "Requirement already satisfied: numpy>=1.23.2 in c:\\users\\valarr\\appdata\\local\\programs\\python\\python311\\lib\\site-packages (from pandas) (2.3.1)\n",
      "Requirement already satisfied: python-dateutil>=2.8.2 in c:\\users\\valarr\\appdata\\local\\programs\\python\\python311\\lib\\site-packages (from pandas) (2.9.0.post0)\n",
      "Requirement already satisfied: pytz>=2020.1 in c:\\users\\valarr\\appdata\\local\\programs\\python\\python311\\lib\\site-packages (from pandas) (2025.2)\n",
      "Requirement already satisfied: tzdata>=2022.7 in c:\\users\\valarr\\appdata\\local\\programs\\python\\python311\\lib\\site-packages (from pandas) (2025.2)\n",
      "Requirement already satisfied: six>=1.5 in c:\\users\\valarr\\appdata\\local\\programs\\python\\python311\\lib\\site-packages (from python-dateutil>=2.8.2->pandas) (1.17.0)\n",
      "Note: you may need to restart the kernel to use updated packages.\n"
     ]
    },
    {
     "name": "stderr",
     "output_type": "stream",
     "text": [
      "\n",
      "[notice] A new release of pip is available: 24.0 -> 25.2\n",
      "[notice] To update, run: python.exe -m pip install --upgrade pip\n"
     ]
    }
   ],
   "source": [
    "pip install pandas"
   ]
  },
  {
   "cell_type": "markdown",
   "id": "055f5836-de55-49fc-9d46-bb6adf932889",
   "metadata": {},
   "source": [
    "2. Check Pandas installation and print its version"
   ]
  },
  {
   "cell_type": "code",
   "execution_count": 3,
   "id": "b7a6f5ba-cfff-467b-a30d-a16a570c6100",
   "metadata": {},
   "outputs": [
    {
     "name": "stdout",
     "output_type": "stream",
     "text": [
      "2.3.1\n"
     ]
    }
   ],
   "source": [
    "import pandas as pd\n",
    "print(pd.__version__)"
   ]
  },
  {
   "cell_type": "markdown",
   "id": "dca17aeb-f071-4b14-975f-b581c6a54f5a",
   "metadata": {},
   "source": [
    "3. Create series from the list"
   ]
  },
  {
   "cell_type": "code",
   "execution_count": 5,
   "id": "aa575fa0-00c8-4341-941f-a02cd6cdc394",
   "metadata": {},
   "outputs": [
    {
     "name": "stdout",
     "output_type": "stream",
     "text": [
      "0    22\n",
      "1    25\n",
      "2    21\n",
      "3    19\n",
      "4    23\n",
      "dtype: int64\n"
     ]
    }
   ],
   "source": [
    "temperatures=[22,25,21,19,23]\n",
    "temp_series=pd.Series(temperatures)\n",
    "print(temp_series)"
   ]
  },
  {
   "cell_type": "markdown",
   "id": "806c4404-e350-4609-8bf6-97c20786457d",
   "metadata": {},
   "source": [
    "4. create series with custom index"
   ]
  },
  {
   "cell_type": "code",
   "execution_count": 8,
   "id": "e447c483-afb9-407b-9aec-a2d449de2869",
   "metadata": {},
   "outputs": [
    {
     "name": "stdout",
     "output_type": "stream",
     "text": [
      "Monday       150\n",
      "Tuesday      200\n",
      "Wednesday     95\n",
      "dtype: int64\n"
     ]
    }
   ],
   "source": [
    "sales=[150,200,95]\n",
    "days=['Monday','Tuesday','Wednesday']\n",
    "daily_sales=pd.Series(sales,index=days)\n",
    "print(daily_sales)"
   ]
  },
  {
   "cell_type": "markdown",
   "id": "6b6f0f90-8e24-44ec-91d4-92c5494010c2",
   "metadata": {},
   "source": [
    "5. creating dataframe from dictionary"
   ]
  },
  {
   "cell_type": "code",
   "execution_count": 11,
   "id": "9aaebf2c-a0e9-4677-a655-cc2dbc1b1970",
   "metadata": {},
   "outputs": [
    {
     "name": "stdout",
     "output_type": "stream",
     "text": [
      "       Name  Age   Department  Salary\n",
      "0    Valarr   29           HR   70000\n",
      "1      Siva   28  Engineering   95000\n",
      "2  Yuvashri   26    Marketing   58000\n",
      "3     Arjun   28  Engineering  110000\n"
     ]
    }
   ],
   "source": [
    "employee_data={\n",
    "    'Name':['Valarr','Siva','Yuvashri','Arjun'],\n",
    "    'Age':[29,28,26,28],\n",
    "    'Department':['HR', 'Engineering', 'Marketing', 'Engineering'],\n",
    "    'Salary':[70000, 95000, 58000, 110000]\n",
    "}\n",
    "df=pd.DataFrame(employee_data)\n",
    "print(df)"
   ]
  },
  {
   "cell_type": "markdown",
   "id": "ba8a2400-3a2b-4c11-98d9-c50d66255fd9",
   "metadata": {},
   "source": [
    "6. To see top rows"
   ]
  },
  {
   "cell_type": "code",
   "execution_count": 13,
   "id": "d05fa0c8-3343-453e-93ef-4b003778f181",
   "metadata": {},
   "outputs": [
    {
     "data": {
      "text/html": [
       "<div>\n",
       "<style scoped>\n",
       "    .dataframe tbody tr th:only-of-type {\n",
       "        vertical-align: middle;\n",
       "    }\n",
       "\n",
       "    .dataframe tbody tr th {\n",
       "        vertical-align: top;\n",
       "    }\n",
       "\n",
       "    .dataframe thead th {\n",
       "        text-align: right;\n",
       "    }\n",
       "</style>\n",
       "<table border=\"1\" class=\"dataframe\">\n",
       "  <thead>\n",
       "    <tr style=\"text-align: right;\">\n",
       "      <th></th>\n",
       "      <th>Name</th>\n",
       "      <th>Age</th>\n",
       "      <th>Department</th>\n",
       "      <th>Salary</th>\n",
       "    </tr>\n",
       "  </thead>\n",
       "  <tbody>\n",
       "    <tr>\n",
       "      <th>0</th>\n",
       "      <td>Valarr</td>\n",
       "      <td>29</td>\n",
       "      <td>HR</td>\n",
       "      <td>70000</td>\n",
       "    </tr>\n",
       "    <tr>\n",
       "      <th>1</th>\n",
       "      <td>Siva</td>\n",
       "      <td>28</td>\n",
       "      <td>Engineering</td>\n",
       "      <td>95000</td>\n",
       "    </tr>\n",
       "    <tr>\n",
       "      <th>2</th>\n",
       "      <td>Yuvashri</td>\n",
       "      <td>26</td>\n",
       "      <td>Marketing</td>\n",
       "      <td>58000</td>\n",
       "    </tr>\n",
       "    <tr>\n",
       "      <th>3</th>\n",
       "      <td>Arjun</td>\n",
       "      <td>28</td>\n",
       "      <td>Engineering</td>\n",
       "      <td>110000</td>\n",
       "    </tr>\n",
       "  </tbody>\n",
       "</table>\n",
       "</div>"
      ],
      "text/plain": [
       "       Name  Age   Department  Salary\n",
       "0    Valarr   29           HR   70000\n",
       "1      Siva   28  Engineering   95000\n",
       "2  Yuvashri   26    Marketing   58000\n",
       "3     Arjun   28  Engineering  110000"
      ]
     },
     "execution_count": 13,
     "metadata": {},
     "output_type": "execute_result"
    }
   ],
   "source": [
    "df.head()\n",
    "# By default it displays first 5 rows"
   ]
  },
  {
   "cell_type": "code",
   "execution_count": 14,
   "id": "d69f6e1a-7c8e-49b3-8276-bd6cb7ed8fc5",
   "metadata": {},
   "outputs": [
    {
     "data": {
      "text/html": [
       "<div>\n",
       "<style scoped>\n",
       "    .dataframe tbody tr th:only-of-type {\n",
       "        vertical-align: middle;\n",
       "    }\n",
       "\n",
       "    .dataframe tbody tr th {\n",
       "        vertical-align: top;\n",
       "    }\n",
       "\n",
       "    .dataframe thead th {\n",
       "        text-align: right;\n",
       "    }\n",
       "</style>\n",
       "<table border=\"1\" class=\"dataframe\">\n",
       "  <thead>\n",
       "    <tr style=\"text-align: right;\">\n",
       "      <th></th>\n",
       "      <th>Name</th>\n",
       "      <th>Age</th>\n",
       "      <th>Department</th>\n",
       "      <th>Salary</th>\n",
       "    </tr>\n",
       "  </thead>\n",
       "  <tbody>\n",
       "    <tr>\n",
       "      <th>0</th>\n",
       "      <td>Valarr</td>\n",
       "      <td>29</td>\n",
       "      <td>HR</td>\n",
       "      <td>70000</td>\n",
       "    </tr>\n",
       "    <tr>\n",
       "      <th>1</th>\n",
       "      <td>Siva</td>\n",
       "      <td>28</td>\n",
       "      <td>Engineering</td>\n",
       "      <td>95000</td>\n",
       "    </tr>\n",
       "  </tbody>\n",
       "</table>\n",
       "</div>"
      ],
      "text/plain": [
       "     Name  Age   Department  Salary\n",
       "0  Valarr   29           HR   70000\n",
       "1    Siva   28  Engineering   95000"
      ]
     },
     "execution_count": 14,
     "metadata": {},
     "output_type": "execute_result"
    }
   ],
   "source": [
    "df.head(2)"
   ]
  },
  {
   "cell_type": "code",
   "execution_count": 16,
   "id": "afcea191-af8b-4f5e-b58d-6e9eb5a7b45e",
   "metadata": {},
   "outputs": [
    {
     "name": "stdout",
     "output_type": "stream",
     "text": [
      "     Name  Age   Department  Salary\n",
      "0  Valarr   29           HR   70000\n",
      "1    Siva   28  Engineering   95000\n"
     ]
    }
   ],
   "source": [
    "print(df.head(2))"
   ]
  },
  {
   "cell_type": "markdown",
   "id": "c55bd4a9-402d-40cb-ba9b-17cf6965abba",
   "metadata": {},
   "source": [
    "7. To check dimension"
   ]
  },
  {
   "cell_type": "code",
   "execution_count": 18,
   "id": "dd3c6036-297b-47c6-9091-3a4f761684f9",
   "metadata": {},
   "outputs": [
    {
     "name": "stdout",
     "output_type": "stream",
     "text": [
      "(4, 4)\n"
     ]
    }
   ],
   "source": [
    "print(df.shape)"
   ]
  },
  {
   "cell_type": "code",
   "execution_count": 19,
   "id": "245c108c-c474-4f53-86d3-108216f91884",
   "metadata": {},
   "outputs": [
    {
     "data": {
      "text/plain": [
       "(4, 4)"
      ]
     },
     "execution_count": 19,
     "metadata": {},
     "output_type": "execute_result"
    }
   ],
   "source": [
    "df.shape"
   ]
  },
  {
   "cell_type": "markdown",
   "id": "0c651fdc-7627-434a-b6c0-720aeea53498",
   "metadata": {},
   "source": [
    "8. To get technical summary"
   ]
  },
  {
   "cell_type": "code",
   "execution_count": 20,
   "id": "518888b1-7863-4560-b67e-81681b7cbfd7",
   "metadata": {},
   "outputs": [
    {
     "name": "stdout",
     "output_type": "stream",
     "text": [
      "<class 'pandas.core.frame.DataFrame'>\n",
      "RangeIndex: 4 entries, 0 to 3\n",
      "Data columns (total 4 columns):\n",
      " #   Column      Non-Null Count  Dtype \n",
      "---  ------      --------------  ----- \n",
      " 0   Name        4 non-null      object\n",
      " 1   Age         4 non-null      int64 \n",
      " 2   Department  4 non-null      object\n",
      " 3   Salary      4 non-null      int64 \n",
      "dtypes: int64(2), object(2)\n",
      "memory usage: 260.0+ bytes\n"
     ]
    }
   ],
   "source": [
    "df.info()"
   ]
  }
 ],
 "metadata": {
  "kernelspec": {
   "display_name": "Python 3 (ipykernel)",
   "language": "python",
   "name": "python3"
  },
  "language_info": {
   "codemirror_mode": {
    "name": "ipython",
    "version": 3
   },
   "file_extension": ".py",
   "mimetype": "text/x-python",
   "name": "python",
   "nbconvert_exporter": "python",
   "pygments_lexer": "ipython3",
   "version": "3.11.9"
  }
 },
 "nbformat": 4,
 "nbformat_minor": 5
}
