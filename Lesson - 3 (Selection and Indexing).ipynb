{
 "cells": [
  {
   "cell_type": "code",
   "execution_count": 1,
   "id": "f0ce707b-4a7b-4f13-88f0-d169f40ccda7",
   "metadata": {},
   "outputs": [],
   "source": [
    "import pandas as pd"
   ]
  },
  {
   "cell_type": "code",
   "execution_count": 7,
   "id": "c543323f-c2ab-4c0b-b5b8-9cd0c82f2ba2",
   "metadata": {},
   "outputs": [
    {
     "name": "stdout",
     "output_type": "stream",
     "text": [
      "   StudentID     Name  Subject  StudyHours  Grade\n",
      "0        101    Alice     Math         2.5     85\n",
      "1        102      Bob  Science         4.0     92\n",
      "2        103  Charlie     Math         1.5     78\n",
      "3        104    David  English         3.0     88\n",
      "4        105    Emily  Science         5.5     95\n",
      "5        106    Frank     Math         NaN     65\n",
      "6        107    Grace  English         2.0     81\n"
     ]
    }
   ],
   "source": [
    "data = {\n",
    "    'StudentID': [101, 102, 103, 104, 105, 106, 107],\n",
    "    'Name': ['Alice', 'Bob', 'Charlie', 'David', 'Emily', 'Frank', 'Grace'],\n",
    "    'Subject': ['Math', 'Science', 'Math', 'English', 'Science', 'Math', 'English'],\n",
    "    'StudyHours': [2.5, 4.0, 1.5, 3.0, 5.5, None, 2.0], # Frank's data is missing\n",
    "    'Grade': [85, 92, 78, 88, 95, 65, 81]\n",
    "}\n",
    "grades_df=pd.DataFrame(data)\n",
    "print(grades_df)"
   ]
  },
  {
   "cell_type": "markdown",
   "id": "8f07818c-793b-4ded-aed3-9568b5d80772",
   "metadata": {},
   "source": [
    "1. Selecting single column"
   ]
  },
  {
   "cell_type": "code",
   "execution_count": 9,
   "id": "e733619b-122d-47c6-ace0-e89c18efa103",
   "metadata": {},
   "outputs": [],
   "source": [
    "names=grades_df['Name']"
   ]
  },
  {
   "cell_type": "code",
   "execution_count": 11,
   "id": "c873d2e5-0cbe-49a4-9e84-9113d295864e",
   "metadata": {},
   "outputs": [
    {
     "name": "stdout",
     "output_type": "stream",
     "text": [
      "Selecting single column:\n",
      "0      Alice\n",
      "1        Bob\n",
      "2    Charlie\n",
      "3      David\n",
      "4      Emily\n",
      "5      Frank\n",
      "6      Grace\n",
      "Name: Name, dtype: object\n"
     ]
    }
   ],
   "source": [
    "print('Selecting single column:')\n",
    "print(names)"
   ]
  },
  {
   "cell_type": "code",
   "execution_count": 12,
   "id": "e2c60079-ca86-485b-9ad9-955219ac365b",
   "metadata": {},
   "outputs": [
    {
     "name": "stdout",
     "output_type": "stream",
     "text": [
      "Type os result is <class 'pandas.core.series.Series'>\n"
     ]
    }
   ],
   "source": [
    "print(f\"Type os result is {type(names)}\")"
   ]
  },
  {
   "cell_type": "markdown",
   "id": "0cb76796-c7ab-44ec-8b93-dade20c5bdb3",
   "metadata": {},
   "source": [
    "2. Selecting multiple columns"
   ]
  },
  {
   "cell_type": "code",
   "execution_count": 15,
   "id": "abec1d27-7d08-48af-b8d1-78e76499ecbf",
   "metadata": {},
   "outputs": [
    {
     "name": "stdout",
     "output_type": "stream",
     "text": [
      "      Name  Subject\n",
      "0    Alice     Math\n",
      "1      Bob  Science\n",
      "2  Charlie     Math\n",
      "3    David  English\n",
      "4    Emily  Science\n",
      "5    Frank     Math\n",
      "6    Grace  English\n"
     ]
    }
   ],
   "source": [
    "name_and_grade=grades_df[['Name','Subject']]\n",
    "print(name_and_grade)"
   ]
  },
  {
   "cell_type": "code",
   "execution_count": 17,
   "id": "b726be3d-c931-4ca3-87bf-3944e6d7ed2b",
   "metadata": {},
   "outputs": [
    {
     "name": "stdout",
     "output_type": "stream",
     "text": [
      "Result of multiselection is <class 'pandas.core.frame.DataFrame'>\n"
     ]
    }
   ],
   "source": [
    "print(f\"Result of multiselection is {type(name_and_grade)}\")"
   ]
  },
  {
   "cell_type": "markdown",
   "id": "96816073-0b61-467f-ab2d-2b19a98afe51",
   "metadata": {},
   "source": [
    "3. Selecting rows"
   ]
  },
  {
   "cell_type": "code",
   "execution_count": 20,
   "id": "2acdc497-4e42-4206-a1fc-051e8b9843e4",
   "metadata": {},
   "outputs": [
    {
     "name": "stdout",
     "output_type": "stream",
     "text": [
      "StudentID         103\n",
      "Name          Charlie\n",
      "Subject          Math\n",
      "StudyHours        1.5\n",
      "Grade              78\n",
      "Name: 2, dtype: object\n"
     ]
    }
   ],
   "source": [
    "# Select the row at the 2nd position (index 3)\n",
    "charlie_data=grades_df.iloc[2]\n",
    "print(charlie_data)"
   ]
  },
  {
   "cell_type": "markdown",
   "id": "c805d944-b0f0-4cd2-9f94-9cf30883a931",
   "metadata": {},
   "source": [
    ".loc (Label-Based Selection)"
   ]
  },
  {
   "cell_type": "code",
   "execution_count": 19,
   "id": "94f6051a-788b-4b2b-ad64-91f214c65a0a",
   "metadata": {},
   "outputs": [
    {
     "name": "stdout",
     "output_type": "stream",
     "text": [
      "StudentID         103\n",
      "Name          Charlie\n",
      "Subject          Math\n",
      "StudyHours        1.5\n",
      "Grade              78\n",
      "Name: 2, dtype: object\n"
     ]
    }
   ],
   "source": [
    "# Select the row with index label 2 (Charlie)\n",
    "charlie_data=grades_df.iloc[2]\n",
    "print(charlie_data)"
   ]
  },
  {
   "cell_type": "code",
   "execution_count": 21,
   "id": "8302b499-67b6-46c0-a1b9-4a4dbbd759b1",
   "metadata": {},
   "outputs": [
    {
     "name": "stdout",
     "output_type": "stream",
     "text": [
      "   StudentID     Name  Subject  StudyHours  Grade\n",
      "2        103  Charlie     Math         1.5     78\n",
      "3        104    David  English         3.0     88\n",
      "4        105    Emily  Science         5.5     95\n"
     ]
    }
   ],
   "source": [
    "# Slicing\n",
    "some_students=grades_df.iloc[2:5]\n",
    "print(some_students)"
   ]
  },
  {
   "cell_type": "markdown",
   "id": "04167f01-95c4-47d1-bec3-59a7d6ed8905",
   "metadata": {},
   "source": [
    "4. Combining Row and column selection </br>\n",
    "   <b>.loc[row_selector, column_selector]<b>"
   ]
  },
  {
   "cell_type": "code",
   "execution_count": 22,
   "id": "b590b2bb-152e-4844-87a2-29c82f43acff",
   "metadata": {},
   "outputs": [
    {
     "name": "stdout",
     "output_type": "stream",
     "text": [
      "92\n"
     ]
    }
   ],
   "source": [
    "Bob_grade=grades_df.loc[1, 'Grade']\n",
    "print(Bob_grade)"
   ]
  },
  {
   "cell_type": "code",
   "execution_count": 23,
   "id": "97665654-62ec-4735-8b52-6788bad03af2",
   "metadata": {},
   "outputs": [
    {
     "name": "stdout",
     "output_type": "stream",
     "text": [
      "2    78\n",
      "3    88\n",
      "4    95\n",
      "5    65\n",
      "Name: Grade, dtype: int64\n"
     ]
    }
   ],
   "source": [
    "simple_subset = grades_df.loc[2:5,'Grade']\n",
    "print(simple_subset)"
   ]
  },
  {
   "cell_type": "code",
   "execution_count": 26,
   "id": "1e7492ef-f79f-456d-ba00-b833fc2fc21a",
   "metadata": {},
   "outputs": [
    {
     "name": "stdout",
     "output_type": "stream",
     "text": [
      "      Name  Grade\n",
      "2  Charlie     78\n",
      "3    David     88\n",
      "4    Emily     95\n",
      "5    Frank     65\n"
     ]
    }
   ],
   "source": [
    "subset = grades_df.loc[2:5,['Name','Grade']]\n",
    "print(subset)"
   ]
  },
  {
   "cell_type": "markdown",
   "id": "5b6d7d81-49a8-46ce-87f6-8b500ca307ea",
   "metadata": {},
   "source": [
    "5. Conditional Selection"
   ]
  },
  {
   "cell_type": "code",
   "execution_count": 27,
   "id": "90d74db3-86a9-4969-a39f-37b47652e56f",
   "metadata": {},
   "outputs": [],
   "source": [
    "is_math = grades_df['Subject']=='Math'"
   ]
  },
  {
   "cell_type": "code",
   "execution_count": 28,
   "id": "e852c44c-bfb8-4bcc-b9ad-34e793b4ed08",
   "metadata": {},
   "outputs": [
    {
     "name": "stdout",
     "output_type": "stream",
     "text": [
      "0     True\n",
      "1    False\n",
      "2     True\n",
      "3    False\n",
      "4    False\n",
      "5     True\n",
      "6    False\n",
      "Name: Subject, dtype: bool\n"
     ]
    }
   ],
   "source": [
    "print(is_math)"
   ]
  },
  {
   "cell_type": "code",
   "execution_count": 29,
   "id": "ab2ef227-4364-4980-a6e4-c50ffee6a0f9",
   "metadata": {},
   "outputs": [
    {
     "name": "stdout",
     "output_type": "stream",
     "text": [
      "   StudentID     Name Subject  StudyHours  Grade\n",
      "0        101    Alice    Math         2.5     85\n",
      "2        103  Charlie    Math         1.5     78\n",
      "5        106    Frank    Math         NaN     65\n"
     ]
    }
   ],
   "source": [
    "math_students=grades_df[is_math]\n",
    "print(math_students)"
   ]
  },
  {
   "cell_type": "code",
   "execution_count": 32,
   "id": "5ea55e8b-b737-44a0-a4d4-a149aa97a73b",
   "metadata": {},
   "outputs": [
    {
     "name": "stdout",
     "output_type": "stream",
     "text": [
      "0    False\n",
      "1     True\n",
      "2    False\n",
      "3    False\n",
      "4     True\n",
      "5    False\n",
      "6    False\n",
      "dtype: bool\n"
     ]
    }
   ],
   "source": [
    "science_score = (grades_df['Subject']=='Science') & (grades_df['Grade']>85)\n",
    "print(science_score)"
   ]
  },
  {
   "cell_type": "code",
   "execution_count": 34,
   "id": "5286319e-b250-4606-920e-fc8a687a6951",
   "metadata": {},
   "outputs": [
    {
     "name": "stdout",
     "output_type": "stream",
     "text": [
      "   StudentID   Name  Subject  StudyHours  Grade\n",
      "1        102    Bob  Science         4.0     92\n",
      "4        105  Emily  Science         5.5     95\n"
     ]
    }
   ],
   "source": [
    "science_achievers = grades_df[science_score]\n",
    "print(science_achievers)"
   ]
  },
  {
   "cell_type": "code",
   "execution_count": null,
   "id": "85324377-3b62-4793-8648-05145028fb14",
   "metadata": {},
   "outputs": [],
   "source": []
  }
 ],
 "metadata": {
  "kernelspec": {
   "display_name": "Python 3 (ipykernel)",
   "language": "python",
   "name": "python3"
  },
  "language_info": {
   "codemirror_mode": {
    "name": "ipython",
    "version": 3
   },
   "file_extension": ".py",
   "mimetype": "text/x-python",
   "name": "python",
   "nbconvert_exporter": "python",
   "pygments_lexer": "ipython3",
   "version": "3.11.9"
  }
 },
 "nbformat": 4,
 "nbformat_minor": 5
}
