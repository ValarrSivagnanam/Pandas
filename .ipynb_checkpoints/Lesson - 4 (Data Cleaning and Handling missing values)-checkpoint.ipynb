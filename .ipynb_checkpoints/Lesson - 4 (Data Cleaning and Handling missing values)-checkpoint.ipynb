{
 "cells": [
  {
   "cell_type": "code",
   "execution_count": 1,
   "id": "f2b1017c-a62f-444a-b77f-bd5798f520fe",
   "metadata": {},
   "outputs": [],
   "source": [
    "import pandas as pd\n",
    "import numpy as np"
   ]
  },
  {
   "cell_type": "code",
   "execution_count": 3,
   "id": "9f0627c5-bf71-428a-999e-71fef4335823",
   "metadata": {},
   "outputs": [
    {
     "name": "stdout",
     "output_type": "stream",
     "text": [
      "   StudentID     Name  Subject  StudyHours  Grade\n",
      "0        101    Alice     Math         2.5     85\n",
      "1        102      Bob  Science         4.0     92\n",
      "2        103  Charlie     Math         1.5     78\n",
      "3        104    David  English         3.0     88\n",
      "4        105    Emily  Science         5.5     95\n",
      "5        106    Frank     Math         NaN     65\n",
      "6        107    Grace  English         2.0     81\n"
     ]
    }
   ],
   "source": [
    "data = {\n",
    "    'StudentID': [101, 102, 103, 104, 105, 106, 107],\n",
    "    'Name': ['Alice', 'Bob', 'Charlie', 'David', 'Emily', 'Frank', 'Grace'],\n",
    "    'Subject': ['Math', 'Science', 'Math', 'English', 'Science', 'Math', 'English'],\n",
    "    'StudyHours': [2.5, 4.0, 1.5, 3.0, 5.5, np.nan, 2.0], # Explicitly using np.nan for missing value\n",
    "    'Grade': [85, 92, 78, 88, 95, 65, 81]\n",
    "}\n",
    "grades_df=pd.DataFrame(data)\n",
    "print(grades_df)"
   ]
  },
  {
   "cell_type": "markdown",
   "id": "3ba371aa-4e5e-42a9-879d-a6b8cf30dd76",
   "metadata": {},
   "source": [
    "1. Identifying the missing data"
   ]
  },
  {
   "cell_type": "code",
   "execution_count": 4,
   "id": "95a9ca2d-f7c2-4a49-807a-c3a9c3ce3250",
   "metadata": {},
   "outputs": [
    {
     "data": {
      "text/html": [
       "<div>\n",
       "<style scoped>\n",
       "    .dataframe tbody tr th:only-of-type {\n",
       "        vertical-align: middle;\n",
       "    }\n",
       "\n",
       "    .dataframe tbody tr th {\n",
       "        vertical-align: top;\n",
       "    }\n",
       "\n",
       "    .dataframe thead th {\n",
       "        text-align: right;\n",
       "    }\n",
       "</style>\n",
       "<table border=\"1\" class=\"dataframe\">\n",
       "  <thead>\n",
       "    <tr style=\"text-align: right;\">\n",
       "      <th></th>\n",
       "      <th>StudentID</th>\n",
       "      <th>Name</th>\n",
       "      <th>Subject</th>\n",
       "      <th>StudyHours</th>\n",
       "      <th>Grade</th>\n",
       "    </tr>\n",
       "  </thead>\n",
       "  <tbody>\n",
       "    <tr>\n",
       "      <th>0</th>\n",
       "      <td>101</td>\n",
       "      <td>Alice</td>\n",
       "      <td>Math</td>\n",
       "      <td>2.5</td>\n",
       "      <td>85</td>\n",
       "    </tr>\n",
       "    <tr>\n",
       "      <th>1</th>\n",
       "      <td>102</td>\n",
       "      <td>Bob</td>\n",
       "      <td>Science</td>\n",
       "      <td>4.0</td>\n",
       "      <td>92</td>\n",
       "    </tr>\n",
       "    <tr>\n",
       "      <th>2</th>\n",
       "      <td>103</td>\n",
       "      <td>Charlie</td>\n",
       "      <td>Math</td>\n",
       "      <td>1.5</td>\n",
       "      <td>78</td>\n",
       "    </tr>\n",
       "    <tr>\n",
       "      <th>3</th>\n",
       "      <td>104</td>\n",
       "      <td>David</td>\n",
       "      <td>English</td>\n",
       "      <td>3.0</td>\n",
       "      <td>88</td>\n",
       "    </tr>\n",
       "    <tr>\n",
       "      <th>4</th>\n",
       "      <td>105</td>\n",
       "      <td>Emily</td>\n",
       "      <td>Science</td>\n",
       "      <td>5.5</td>\n",
       "      <td>95</td>\n",
       "    </tr>\n",
       "  </tbody>\n",
       "</table>\n",
       "</div>"
      ],
      "text/plain": [
       "   StudentID     Name  Subject  StudyHours  Grade\n",
       "0        101    Alice     Math         2.5     85\n",
       "1        102      Bob  Science         4.0     92\n",
       "2        103  Charlie     Math         1.5     78\n",
       "3        104    David  English         3.0     88\n",
       "4        105    Emily  Science         5.5     95"
      ]
     },
     "execution_count": 4,
     "metadata": {},
     "output_type": "execute_result"
    }
   ],
   "source": [
    "grades_df.head()"
   ]
  },
  {
   "cell_type": "code",
   "execution_count": 5,
   "id": "e54b43dc-594b-4f3f-a476-b9a10c45bb42",
   "metadata": {},
   "outputs": [
    {
     "name": "stdout",
     "output_type": "stream",
     "text": [
      "<class 'pandas.core.frame.DataFrame'>\n",
      "RangeIndex: 7 entries, 0 to 6\n",
      "Data columns (total 5 columns):\n",
      " #   Column      Non-Null Count  Dtype  \n",
      "---  ------      --------------  -----  \n",
      " 0   StudentID   7 non-null      int64  \n",
      " 1   Name        7 non-null      object \n",
      " 2   Subject     7 non-null      object \n",
      " 3   StudyHours  6 non-null      float64\n",
      " 4   Grade       7 non-null      int64  \n",
      "dtypes: float64(1), int64(2), object(2)\n",
      "memory usage: 412.0+ bytes\n",
      "None\n"
     ]
    }
   ],
   "source": [
    "print(grades_df.info())"
   ]
  },
  {
   "cell_type": "code",
   "execution_count": 7,
   "id": "9e9472fc-0f0e-4bea-8d7a-6fb12edbf42a",
   "metadata": {},
   "outputs": [
    {
     "name": "stdout",
     "output_type": "stream",
     "text": [
      "   StudentID   Name  Subject  StudyHours  Grade\n",
      "0      False  False    False       False  False\n",
      "1      False  False    False       False  False\n",
      "2      False  False    False       False  False\n",
      "3      False  False    False       False  False\n",
      "4      False  False    False       False  False\n",
      "5      False  False    False        True  False\n",
      "6      False  False    False       False  False\n"
     ]
    }
   ],
   "source": [
    "print(grades_df.isnull())"
   ]
  },
  {
   "cell_type": "code",
   "execution_count": 8,
   "id": "2e434ffb-007a-40d5-a1b1-9fd43ed7c97d",
   "metadata": {},
   "outputs": [
    {
     "name": "stdout",
     "output_type": "stream",
     "text": [
      "StudentID     0\n",
      "Name          0\n",
      "Subject       0\n",
      "StudyHours    1\n",
      "Grade         0\n",
      "dtype: int64\n"
     ]
    }
   ],
   "source": [
    "print(grades_df.isnull().sum())"
   ]
  },
  {
   "cell_type": "markdown",
   "id": "5664ecf4-c6dd-4381-b5ae-425c3ef594fa",
   "metadata": {},
   "source": [
    "2. Handling missing values"
   ]
  },
  {
   "cell_type": "markdown",
   "id": "6a36bef8-cb1a-42f8-bfd5-45d26e660dbf",
   "metadata": {},
   "source": [
    "Strategy 1: Dropping the Missing Data"
   ]
  },
  {
   "cell_type": "code",
   "execution_count": 9,
   "id": "58295834-2bfc-4283-9825-b32eb5b741e4",
   "metadata": {},
   "outputs": [
    {
     "name": "stdout",
     "output_type": "stream",
     "text": [
      "   StudentID     Name  Subject  StudyHours  Grade\n",
      "0        101    Alice     Math         2.5     85\n",
      "1        102      Bob  Science         4.0     92\n",
      "2        103  Charlie     Math         1.5     78\n",
      "3        104    David  English         3.0     88\n",
      "4        105    Emily  Science         5.5     95\n",
      "6        107    Grace  English         2.0     81\n"
     ]
    }
   ],
   "source": [
    "# Option A: Reassignment (Recommended)\n",
    "grades_dropped_df=grades_df.dropna()\n",
    "print(grades_dropped_df)"
   ]
  },
  {
   "cell_type": "code",
   "execution_count": null,
   "id": "e7557e64-48e7-4030-a184-d188b5ef734d",
   "metadata": {},
   "outputs": [],
   "source": [
    "# Option B: Using inplace (Use with caution)\n",
    "# grades_df.dropna(inplace=True)"
   ]
  },
  {
   "cell_type": "markdown",
   "id": "10fde1d0-5dc2-4254-a254-11659775abc0",
   "metadata": {},
   "source": [
    "Strategy 2: Filling the Missing Data"
   ]
  },
  {
   "cell_type": "code",
   "execution_count": 12,
   "id": "edf2870a-a60f-46bc-9dea-a85f85d433d5",
   "metadata": {},
   "outputs": [
    {
     "name": "stdout",
     "output_type": "stream",
     "text": [
      "   StudentID     Name  Subject  StudyHours  Grade\n",
      "0        101    Alice     Math         2.5     85\n",
      "1        102      Bob  Science         4.0     92\n",
      "2        103  Charlie     Math         1.5     78\n",
      "3        104    David  English         3.0     88\n",
      "4        105    Emily  Science         5.5     95\n",
      "5        106    Frank     Math         NaN     65\n",
      "6        107    Grace  English         2.0     81\n"
     ]
    }
   ],
   "source": [
    "grades_df_copy=grades_df.copy()\n",
    "print(grades_df_copy)"
   ]
  },
  {
   "cell_type": "markdown",
   "id": "785b19b1-e6d1-4a15-b700-a94454e02ae8",
   "metadata": {},
   "source": [
    "a. Filling the Missing Data with calculated value"
   ]
  },
  {
   "cell_type": "code",
   "execution_count": 13,
   "id": "cb127e61-5972-4ac4-bacd-51749ae5122f",
   "metadata": {},
   "outputs": [],
   "source": [
    "study_hours_mean = grades_df['StudyHours'].mean()"
   ]
  },
  {
   "cell_type": "code",
   "execution_count": 14,
   "id": "4ea2c120-980a-4b35-9d18-b971ed205c16",
   "metadata": {},
   "outputs": [],
   "source": [
    "grades_df_copy['StudyHours'] = grades_df_copy['StudyHours'].fillna(study_hours_mean)"
   ]
  },
  {
   "cell_type": "code",
   "execution_count": 15,
   "id": "4b9c7c78-1fe1-424d-b958-3d2864dc1b23",
   "metadata": {},
   "outputs": [
    {
     "name": "stdout",
     "output_type": "stream",
     "text": [
      "   StudentID     Name  Subject  StudyHours  Grade\n",
      "0        101    Alice     Math    2.500000     85\n",
      "1        102      Bob  Science    4.000000     92\n",
      "2        103  Charlie     Math    1.500000     78\n",
      "3        104    David  English    3.000000     88\n",
      "4        105    Emily  Science    5.500000     95\n",
      "5        106    Frank     Math    3.083333     65\n",
      "6        107    Grace  English    2.000000     81\n"
     ]
    }
   ],
   "source": [
    "print(grades_df_copy)"
   ]
  },
  {
   "cell_type": "markdown",
   "id": "2fabcd7a-6474-4394-9cd0-28aa771ac9ec",
   "metadata": {},
   "source": [
    "b. Filling the Missing Data with fixed value"
   ]
  },
  {
   "cell_type": "code",
   "execution_count": 16,
   "id": "46e4e886-5a2f-4d76-80fc-06d6f221f862",
   "metadata": {},
   "outputs": [],
   "source": [
    "grades_df_copy1=grades_df.copy()"
   ]
  },
  {
   "cell_type": "code",
   "execution_count": 17,
   "id": "9bb6c179-dffa-44c2-8aba-c1cdfd94ffcf",
   "metadata": {},
   "outputs": [
    {
     "name": "stdout",
     "output_type": "stream",
     "text": [
      "   StudentID     Name  Subject  StudyHours  Grade\n",
      "0        101    Alice     Math         2.5     85\n",
      "1        102      Bob  Science         4.0     92\n",
      "2        103  Charlie     Math         1.5     78\n",
      "3        104    David  English         3.0     88\n",
      "4        105    Emily  Science         5.5     95\n",
      "5        106    Frank     Math         1.0     65\n",
      "6        107    Grace  English         2.0     81\n"
     ]
    }
   ],
   "source": [
    "grades_df_copy1['StudyHours'] = grades_df_copy1['StudyHours'].fillna(1)\n",
    "print(grades_df_copy1)"
   ]
  },
  {
   "cell_type": "code",
   "execution_count": null,
   "id": "f2ba25c4-37bf-4772-9f97-e65165fb302b",
   "metadata": {},
   "outputs": [],
   "source": []
  }
 ],
 "metadata": {
  "kernelspec": {
   "display_name": "Python 3 (ipykernel)",
   "language": "python",
   "name": "python3"
  },
  "language_info": {
   "codemirror_mode": {
    "name": "ipython",
    "version": 3
   },
   "file_extension": ".py",
   "mimetype": "text/x-python",
   "name": "python",
   "nbconvert_exporter": "python",
   "pygments_lexer": "ipython3",
   "version": "3.11.9"
  }
 },
 "nbformat": 4,
 "nbformat_minor": 5
}
