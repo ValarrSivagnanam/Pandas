{
 "cells": [
  {
   "cell_type": "code",
   "execution_count": 1,
   "id": "b13641b8-a7a2-4e85-a311-84177f16233e",
   "metadata": {},
   "outputs": [],
   "source": [
    "import pandas as pd"
   ]
  },
  {
   "cell_type": "code",
   "execution_count": 3,
   "id": "6d99d919-124b-4268-8c56-e043289ec3a3",
   "metadata": {},
   "outputs": [
    {
     "name": "stdout",
     "output_type": "stream",
     "text": [
      "   StudentID     Name  Subject  StudyHours  Grade\n",
      "0        101    Alice     Math         2.5     85\n",
      "1        102      Bob  Science         4.0     92\n",
      "2        103  Charlie     Math         1.5     78\n",
      "3        104    David  English         3.0     88\n",
      "4        105    Emily  Science         5.5     95\n",
      "5        106    Frank     Math         NaN     65\n",
      "6        107    Grace  English         2.0     81\n"
     ]
    }
   ],
   "source": [
    "grades_df=pd.read_csv('grades.csv')\n",
    "print(grades_df)"
   ]
  },
  {
   "cell_type": "code",
   "execution_count": 4,
   "id": "c136fa46-12e9-4e77-bc09-7a346f0e5cb4",
   "metadata": {},
   "outputs": [
    {
     "name": "stdout",
     "output_type": "stream",
     "text": [
      "   StudentID     Name  Subject  StudyHours  Grade\n",
      "0        101    Alice     Math         2.5     85\n",
      "1        102      Bob  Science         4.0     92\n",
      "2        103  Charlie     Math         1.5     78\n",
      "3        104    David  English         3.0     88\n",
      "4        105    Emily  Science         5.5     95\n"
     ]
    }
   ],
   "source": [
    "print(grades_df.head())"
   ]
  },
  {
   "cell_type": "code",
   "execution_count": 5,
   "id": "94cda59a-09d2-4608-8121-137b40eca397",
   "metadata": {},
   "outputs": [
    {
     "name": "stdout",
     "output_type": "stream",
     "text": [
      "(7, 5)\n"
     ]
    }
   ],
   "source": [
    "print(grades_df.shape)"
   ]
  },
  {
   "cell_type": "code",
   "execution_count": 6,
   "id": "9f4934b5-7506-4e66-91be-7a52f83ff7e3",
   "metadata": {},
   "outputs": [
    {
     "name": "stdout",
     "output_type": "stream",
     "text": [
      "<class 'pandas.core.frame.DataFrame'>\n",
      "RangeIndex: 7 entries, 0 to 6\n",
      "Data columns (total 5 columns):\n",
      " #   Column      Non-Null Count  Dtype  \n",
      "---  ------      --------------  -----  \n",
      " 0   StudentID   7 non-null      int64  \n",
      " 1   Name        7 non-null      object \n",
      " 2   Subject     7 non-null      object \n",
      " 3   StudyHours  6 non-null      float64\n",
      " 4   Grade       7 non-null      int64  \n",
      "dtypes: float64(1), int64(2), object(2)\n",
      "memory usage: 412.0+ bytes\n",
      "None\n"
     ]
    }
   ],
   "source": [
    "print(grades_df.info())"
   ]
  },
  {
   "cell_type": "code",
   "execution_count": null,
   "id": "88c12701-2814-460c-8382-52805e180f9f",
   "metadata": {},
   "outputs": [],
   "source": []
  }
 ],
 "metadata": {
  "kernelspec": {
   "display_name": "Python 3 (ipykernel)",
   "language": "python",
   "name": "python3"
  },
  "language_info": {
   "codemirror_mode": {
    "name": "ipython",
    "version": 3
   },
   "file_extension": ".py",
   "mimetype": "text/x-python",
   "name": "python",
   "nbconvert_exporter": "python",
   "pygments_lexer": "ipython3",
   "version": "3.11.9"
  }
 },
 "nbformat": 4,
 "nbformat_minor": 5
}
